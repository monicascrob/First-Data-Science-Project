{
 "cells": [
  {
   "cell_type": "markdown",
   "metadata": {},
   "source": [
    "# First Guided Project\n",
    "\n",
    "Profitable App Profiles for the App Store and Google Play Markets\n",
    "\n",
    "Company that builds apps that are free to download and install, revenue for any given app is mostly influenced by the number of users who use the app,\n",
    "\n",
    "The purpuse of the project is to analyze data to help the developers understand what type of apps are likely to attract more users."
   ]
  },
  {
   "cell_type": "code",
   "execution_count": 4,
   "metadata": {
    "collapsed": false
   },
   "outputs": [],
   "source": [
    "# Opening the files\n",
    "\n",
    "from csv import reader\n",
    "\n",
    "# Google play data set\n",
    "opened_file = open('googleplaystore.csv')\n",
    "read_file = reader(opened_file)\n",
    "android = list(read_file)\n",
    "android_header = android[0]\n",
    "android = android[1:]\n",
    "\n",
    "# Apple Store data set\n",
    "opened_file = open('AppleStore.csv')\n",
    "read_file = reader(opened_file)\n",
    "ios = list(read_file)\n",
    "ios_header = ios[0]\n",
    "ios = ios[1:]"
   ]
  },
  {
   "cell_type": "code",
   "execution_count": 5,
   "metadata": {
    "collapsed": false
   },
   "outputs": [],
   "source": [
    "def explore_data(dataset, start, end, rows_and_columns=False):\n",
    "    dataset_slice = dataset[start:end]\n",
    "    for row in dataset_slice:\n",
    "        print(row)\n",
    "        print('\\n') #adds an empty line after each row\n",
    "        \n",
    "    if rows_and_columns:\n",
    "        print('Number of rows: ', len(dataset))\n",
    "        print('Number of columns: ', len(dataset[0]))\n",
    "\n"
   ]
  },
  {
   "cell_type": "code",
   "execution_count": 6,
   "metadata": {
    "collapsed": false
   },
   "outputs": [
    {
     "name": "stdout",
     "output_type": "stream",
     "text": [
      "Android dataset information: \n",
      "\n",
      "['App', 'Category', 'Rating', 'Reviews', 'Size', 'Installs', 'Type', 'Price', 'Content Rating', 'Genres', 'Last Updated', 'Current Ver', 'Android Ver']\n",
      "\n",
      "\n",
      "['Photo Editor & Candy Camera & Grid & ScrapBook', 'ART_AND_DESIGN', '4.1', '159', '19M', '10,000+', 'Free', '0', 'Everyone', 'Art & Design', 'January 7, 2018', '1.0.0', '4.0.3 and up']\n",
      "\n",
      "\n",
      "['Coloring book moana', 'ART_AND_DESIGN', '3.9', '967', '14M', '500,000+', 'Free', '0', 'Everyone', 'Art & Design;Pretend Play', 'January 15, 2018', '2.0.0', '4.0.3 and up']\n",
      "\n",
      "\n",
      "['U Launcher Lite – FREE Live Cool Themes, Hide Apps', 'ART_AND_DESIGN', '4.7', '87510', '8.7M', '5,000,000+', 'Free', '0', 'Everyone', 'Art & Design', 'August 1, 2018', '1.2.4', '4.0.3 and up']\n",
      "\n",
      "\n",
      "Number of rows:  10841\n",
      "Number of columns:  13\n"
     ]
    }
   ],
   "source": [
    "# explore Android dataset\n",
    "\n",
    "print ('Android dataset information:', '\\n')\n",
    "print(android_header)\n",
    "print('\\n')\n",
    "explore_data(android, 0, 3, True)"
   ]
  },
  {
   "cell_type": "code",
   "execution_count": 7,
   "metadata": {
    "collapsed": false
   },
   "outputs": [
    {
     "name": "stdout",
     "output_type": "stream",
     "text": [
      "Apple Store dataset: \n",
      "\n",
      "['id', 'track_name', 'size_bytes', 'currency', 'price', 'rating_count_tot', 'rating_count_ver', 'user_rating', 'user_rating_ver', 'ver', 'cont_rating', 'prime_genre', 'sup_devices.num', 'ipadSc_urls.num', 'lang.num', 'vpp_lic']\n",
      "\n",
      "\n",
      "['284882215', 'Facebook', '389879808', 'USD', '0.0', '2974676', '212', '3.5', '3.5', '95.0', '4+', 'Social Networking', '37', '1', '29', '1']\n",
      "\n",
      "\n",
      "['389801252', 'Instagram', '113954816', 'USD', '0.0', '2161558', '1289', '4.5', '4.0', '10.23', '12+', 'Photo & Video', '37', '0', '29', '1']\n",
      "\n",
      "\n",
      "['529479190', 'Clash of Clans', '116476928', 'USD', '0.0', '2130805', '579', '4.5', '4.5', '9.24.12', '9+', 'Games', '38', '5', '18', '1']\n",
      "\n",
      "\n",
      "Number of rows:  7197\n",
      "Number of columns:  16\n"
     ]
    }
   ],
   "source": [
    "# explore apple store dataset\n",
    "\n",
    "print('Apple Store dataset:', '\\n')\n",
    "print(ios_header)\n",
    "print('\\n')\n",
    "explore_data(ios, 0, 3, True)"
   ]
  },
  {
   "cell_type": "markdown",
   "metadata": {
    "collapsed": true
   },
   "source": [
    "# Data cleaning\n",
    "\n",
    "Before moving forward, we need to make sure our data set is clean:\n",
    "- Remove non-English apps\n",
    "- Remove non free apps"
   ]
  },
  {
   "cell_type": "code",
   "execution_count": 8,
   "metadata": {
    "collapsed": false
   },
   "outputs": [
    {
     "name": "stdout",
     "output_type": "stream",
     "text": [
      "['App', 'Category', 'Rating', 'Reviews', 'Size', 'Installs', 'Type', 'Price', 'Content Rating', 'Genres', 'Last Updated', 'Current Ver', 'Android Ver']\n"
     ]
    }
   ],
   "source": [
    "print(android_header)"
   ]
  },
  {
   "cell_type": "code",
   "execution_count": 9,
   "metadata": {
    "collapsed": false
   },
   "outputs": [
    {
     "name": "stdout",
     "output_type": "stream",
     "text": [
      "['id', 'track_name', 'size_bytes', 'currency', 'price', 'rating_count_tot', 'rating_count_ver', 'user_rating', 'user_rating_ver', 'ver', 'cont_rating', 'prime_genre', 'sup_devices.num', 'ipadSc_urls.num', 'lang.num', 'vpp_lic']\n"
     ]
    }
   ],
   "source": [
    "print(ios_header)"
   ]
  },
  {
   "cell_type": "code",
   "execution_count": 10,
   "metadata": {
    "collapsed": false
   },
   "outputs": [
    {
     "name": "stdout",
     "output_type": "stream",
     "text": [
      "['Life Made WI-Fi Touchscreen Photo Frame', '1.9', '19', '3.0M', '1,000+', 'Free', '0', 'Everyone', '', 'February 11, 2018', '1.0.19', '4.0 and up']\n",
      "10472\n"
     ]
    }
   ],
   "source": [
    "# checking for any incomplete rows \n",
    "\n",
    "for row in android:\n",
    "    headerlength = len(android_header)\n",
    "    rowlength = len(row)\n",
    "    if headerlength != rowlength:\n",
    "        print(row)\n",
    "        print(android.index(row))"
   ]
  },
  {
   "cell_type": "code",
   "execution_count": 11,
   "metadata": {
    "collapsed": false
   },
   "outputs": [
    {
     "data": {
      "text/plain": [
       "['Life Made WI-Fi Touchscreen Photo Frame',\n",
       " '1.9',\n",
       " '19',\n",
       " '3.0M',\n",
       " '1,000+',\n",
       " 'Free',\n",
       " '0',\n",
       " 'Everyone',\n",
       " '',\n",
       " 'February 11, 2018',\n",
       " '1.0.19',\n",
       " '4.0 and up']"
      ]
     },
     "execution_count": 11,
     "metadata": {},
     "output_type": "execute_result"
    }
   ],
   "source": [
    "android[10472]"
   ]
  },
  {
   "cell_type": "code",
   "execution_count": 12,
   "metadata": {
    "collapsed": false
   },
   "outputs": [],
   "source": [
    "# delete the incomplete row: 10472 misses category\n",
    "del android[10472]"
   ]
  },
  {
   "cell_type": "code",
   "execution_count": 13,
   "metadata": {
    "collapsed": false
   },
   "outputs": [
    {
     "data": {
      "text/plain": [
       "['osmino Wi-Fi: free WiFi',\n",
       " 'TOOLS',\n",
       " '4.2',\n",
       " '134203',\n",
       " '4.1M',\n",
       " '10,000,000+',\n",
       " 'Free',\n",
       " '0',\n",
       " 'Everyone',\n",
       " 'Tools',\n",
       " 'August 7, 2018',\n",
       " '6.06.14',\n",
       " '4.4 and up']"
      ]
     },
     "execution_count": 13,
     "metadata": {},
     "output_type": "execute_result"
    }
   ],
   "source": [
    "android[10472]"
   ]
  },
  {
   "cell_type": "code",
   "execution_count": 14,
   "metadata": {
    "collapsed": false
   },
   "outputs": [],
   "source": [
    "# checking for incomplete rows in ios dataset\n",
    "\n",
    "for row in ios:\n",
    "    headerlength = len(ios_header)\n",
    "    rowlength = len(row)\n",
    "    if headerlength != rowlength:\n",
    "        print(row)\n",
    "        print(ios.index(row))"
   ]
  },
  {
   "cell_type": "markdown",
   "metadata": {},
   "source": [
    "Checking if there are duplicate rows"
   ]
  },
  {
   "cell_type": "code",
   "execution_count": 15,
   "metadata": {
    "collapsed": false
   },
   "outputs": [
    {
     "name": "stdout",
     "output_type": "stream",
     "text": [
      "Number of duplicate apps in android dataset: 1181\n",
      "Number of unique apps in android dataset: 9659\n",
      "\n",
      "\n"
     ]
    },
    {
     "data": {
      "text/plain": [
       "['Google My Business', 'ZOOM Cloud Meetings', 'join.me - Simple Meetings']"
      ]
     },
     "execution_count": 15,
     "metadata": {},
     "output_type": "execute_result"
    }
   ],
   "source": [
    "duplicate_apps = []\n",
    "unique_apps = []\n",
    "\n",
    "for app in android:\n",
    "    name = app[0]\n",
    "    if name in unique_apps:\n",
    "        duplicate_apps.append(name)\n",
    "    else:\n",
    "        unique_apps.append(name)\n",
    "print('Number of duplicate apps in android dataset:', len(duplicate_apps))\n",
    "print('Number of unique apps in android dataset:', len(unique_apps))\n",
    "print('\\n')\n",
    "duplicate_apps[2:5]\n"
   ]
  },
  {
   "cell_type": "markdown",
   "metadata": {},
   "source": [
    "Checked the ios dataset with a similar loop, there are no duplicates"
   ]
  },
  {
   "cell_type": "code",
   "execution_count": 16,
   "metadata": {
    "collapsed": false
   },
   "outputs": [
    {
     "name": "stdout",
     "output_type": "stream",
     "text": [
      "Number of duplicate apps in ios dataset: 0\n",
      "Number of unique apps in ios dataset: 7197\n"
     ]
    }
   ],
   "source": [
    "duplicate_apps = []\n",
    "unique_apps = []\n",
    "\n",
    "for app in ios:\n",
    "    name = app[0]\n",
    "    if name in unique_apps:\n",
    "        duplicate_apps.append(name)\n",
    "    else:\n",
    "        unique_apps.append(name)\n",
    "print('Number of duplicate apps in ios dataset:', len(duplicate_apps))\n",
    "print('Number of unique apps in ios dataset:', len(unique_apps))\n"
   ]
  },
  {
   "cell_type": "markdown",
   "metadata": {},
   "source": [
    "Inspect the android set duplicates to see what rows/apps we can remove. \n",
    "In the example below, the number of reviews is different, so we could decide to keep the row with the largest number of reviews, considering that should be the most recent one.\n"
   ]
  },
  {
   "cell_type": "code",
   "execution_count": 17,
   "metadata": {
    "collapsed": false
   },
   "outputs": [
    {
     "name": "stdout",
     "output_type": "stream",
     "text": [
      "['Instagram', 'SOCIAL', '4.5', '66577313', 'Varies with device', '1,000,000,000+', 'Free', '0', 'Teen', 'Social', 'July 31, 2018', 'Varies with device', 'Varies with device']\n",
      "['Instagram', 'SOCIAL', '4.5', '66577446', 'Varies with device', '1,000,000,000+', 'Free', '0', 'Teen', 'Social', 'July 31, 2018', 'Varies with device', 'Varies with device']\n",
      "['Instagram', 'SOCIAL', '4.5', '66577313', 'Varies with device', '1,000,000,000+', 'Free', '0', 'Teen', 'Social', 'July 31, 2018', 'Varies with device', 'Varies with device']\n",
      "['Instagram', 'SOCIAL', '4.5', '66509917', 'Varies with device', '1,000,000,000+', 'Free', '0', 'Teen', 'Social', 'July 31, 2018', 'Varies with device', 'Varies with device']\n"
     ]
    }
   ],
   "source": [
    "for app in android:\n",
    "    name = app[0]\n",
    "    if name ==\"Instagram\":\n",
    "        print(app)"
   ]
  },
  {
   "cell_type": "markdown",
   "metadata": {},
   "source": [
    "Create a dictionary containing only unique apps, with the highest number of reviews."
   ]
  },
  {
   "cell_type": "code",
   "execution_count": 18,
   "metadata": {
    "collapsed": false
   },
   "outputs": [
    {
     "data": {
      "text/plain": [
       "9659"
      ]
     },
     "execution_count": 18,
     "metadata": {},
     "output_type": "execute_result"
    }
   ],
   "source": [
    "reviews_max = {}\n",
    "for app in android:\n",
    "    name = app[0]\n",
    "    n_reviews = float(app[3])\n",
    "    if (name in reviews_max) and (reviews_max[name] < n_reviews):\n",
    "        reviews_max[name] = n_reviews\n",
    "        \n",
    "    if name not in reviews_max:\n",
    "        reviews_max[name] = n_reviews\n",
    "        \n",
    "len(reviews_max)"
   ]
  },
  {
   "cell_type": "markdown",
   "metadata": {},
   "source": [
    "Use the created dictionary to remove the duplicates.\n",
    "Create two empty lists, one to store the new cleaned data set - android_clean and one to keep trak of the apps that we already added - already_addded."
   ]
  },
  {
   "cell_type": "code",
   "execution_count": 19,
   "metadata": {
    "collapsed": false
   },
   "outputs": [
    {
     "name": "stdout",
     "output_type": "stream",
     "text": [
      "['Photo Editor & Candy Camera & Grid & ScrapBook', 'ART_AND_DESIGN', '4.1', '159', '19M', '10,000+', 'Free', '0', 'Everyone', 'Art & Design', 'January 7, 2018', '1.0.0', '4.0.3 and up']\n",
      "\n",
      "\n",
      "['Coloring book moana', 'ART_AND_DESIGN', '3.9', '967', '14M', '500,000+', 'Free', '0', 'Everyone', 'Art & Design;Pretend Play', 'January 15, 2018', '2.0.0', '4.0.3 and up']\n",
      "\n",
      "\n",
      "['U Launcher Lite – FREE Live Cool Themes, Hide Apps', 'ART_AND_DESIGN', '4.7', '87510', '8.7M', '5,000,000+', 'Free', '0', 'Everyone', 'Art & Design', 'August 1, 2018', '1.2.4', '4.0.3 and up']\n",
      "\n",
      "\n",
      "Number of rows:  10840\n",
      "Number of columns:  13\n"
     ]
    }
   ],
   "source": [
    "android_clean = []\n",
    "already_added = []\n",
    "\n",
    "for app in android:\n",
    "    name = app[0]\n",
    "    n_reviews = float(app[3])\n",
    "    \n",
    "    if (reviews_max[name] == n_reviews) and (name not in already_added):\n",
    "        android_clean.append(app)\n",
    "        already_added.append(name)\n",
    "        \n",
    "len(android_clean)\n",
    "explore_data(android, 0, 3, True)"
   ]
  },
  {
   "cell_type": "markdown",
   "metadata": {
    "collapsed": true
   },
   "source": [
    "We need to explore the ios and android datasets for non english apps.\n",
    "\n",
    "We can use the ASCII code to check if the apps names contain any character that is outside of the English alphabet (0-127), numbers from 0 to 9, punctuation marks and mathematical symbols.\n",
    "We need to index each individual character of the string 'Name' and use a loop to interate on the string.\n",
    "\n",
    "The following function will take in a string and return False if there's any character that doesn't belong to the sset of common English characters, otherwise it will return True.\n"
   ]
  },
  {
   "cell_type": "code",
   "execution_count": 20,
   "metadata": {
    "collapsed": false
   },
   "outputs": [
    {
     "name": "stdout",
     "output_type": "stream",
     "text": [
      "True\n",
      "False\n",
      "True\n",
      "False\n",
      "False\n",
      "False\n"
     ]
    }
   ],
   "source": [
    "def is_english_test(string):\n",
    "    \n",
    "    for character in string:\n",
    "        if ord(character) > 127:\n",
    "            return False\n",
    "        \n",
    "    return True\n",
    "\n",
    "print(is_english_test('cal'))\n",
    "print(is_english_test('爱奇艺PPS -《欢乐颂2》电视剧热播'))\n",
    "print(is_english_test('!1dope'))\n",
    "print(is_english_test('Docs To Go™ Free Office Suite'))\n",
    "print(is_english_test('Instachat 😜'))\n",
    "print(is_english_test('😜'))"
   ]
  },
  {
   "cell_type": "markdown",
   "metadata": {},
   "source": [
    "We need to edit the function to make sure it will not filter out some apps that only have a few emojis or special characters. All apps that contain up to 3 emoji or other special characters will still be considered as English apps with the following function."
   ]
  },
  {
   "cell_type": "code",
   "execution_count": 21,
   "metadata": {
    "collapsed": false
   },
   "outputs": [
    {
     "name": "stdout",
     "output_type": "stream",
     "text": [
      "True\n",
      "False\n"
     ]
    }
   ],
   "source": [
    "def is_english(string):\n",
    "    non_ascii = 0\n",
    "\n",
    "    for character in string:\n",
    "        if ord(character) > 127:\n",
    "            non_ascii +=1\n",
    "            \n",
    "    if non_ascii > 3:\n",
    "        return False\n",
    "    else:\n",
    "        return True\n",
    "\n",
    "print(is_english(\"Instachat 😜\"))\n",
    "print(is_english('爱奇艺PPS -《欢乐颂2》电视剧热播'))\n"
   ]
  },
  {
   "cell_type": "markdown",
   "metadata": {},
   "source": [
    "We can now use the function is_english to check both datasets for non english apps adn create a new list that contains English apps only."
   ]
  },
  {
   "cell_type": "code",
   "execution_count": 22,
   "metadata": {
    "collapsed": false
   },
   "outputs": [
    {
     "name": "stdout",
     "output_type": "stream",
     "text": [
      "['Photo Editor & Candy Camera & Grid & ScrapBook', 'ART_AND_DESIGN', '4.1', '159', '19M', '10,000+', 'Free', '0', 'Everyone', 'Art & Design', 'January 7, 2018', '1.0.0', '4.0.3 and up']\n",
      "\n",
      "\n",
      "['U Launcher Lite – FREE Live Cool Themes, Hide Apps', 'ART_AND_DESIGN', '4.7', '87510', '8.7M', '5,000,000+', 'Free', '0', 'Everyone', 'Art & Design', 'August 1, 2018', '1.2.4', '4.0.3 and up']\n",
      "\n",
      "\n",
      "['Sketch - Draw & Paint', 'ART_AND_DESIGN', '4.5', '215644', '25M', '50,000,000+', 'Free', '0', 'Teen', 'Art & Design', 'June 8, 2018', 'Varies with device', '4.2 and up']\n",
      "\n",
      "\n",
      "Number of rows:  9614\n",
      "Number of columns:  13\n"
     ]
    }
   ],
   "source": [
    "android_english = []\n",
    "android_non_english = []\n",
    "\n",
    "for app in android_clean:\n",
    "    name = app[0]\n",
    "    if is_english(name) == True:\n",
    "        android_english.append(app)\n",
    "    if is_english(name) == False:\n",
    "        android_non_english.append(app)\n",
    "        \n",
    "explore_data(android_english, 0, 3, True)        "
   ]
  },
  {
   "cell_type": "code",
   "execution_count": 23,
   "metadata": {
    "collapsed": false
   },
   "outputs": [
    {
     "name": "stdout",
     "output_type": "stream",
     "text": [
      "['284882215', 'Facebook', '389879808', 'USD', '0.0', '2974676', '212', '3.5', '3.5', '95.0', '4+', 'Social Networking', '37', '1', '29', '1']\n",
      "\n",
      "\n",
      "['389801252', 'Instagram', '113954816', 'USD', '0.0', '2161558', '1289', '4.5', '4.0', '10.23', '12+', 'Photo & Video', '37', '0', '29', '1']\n",
      "\n",
      "\n",
      "['529479190', 'Clash of Clans', '116476928', 'USD', '0.0', '2130805', '579', '4.5', '4.5', '9.24.12', '9+', 'Games', '38', '5', '18', '1']\n",
      "\n",
      "\n",
      "Number of rows:  7197\n",
      "Number of columns:  16\n"
     ]
    }
   ],
   "source": [
    "ios_english = [] \n",
    "ios_non_english = []\n",
    "\n",
    "for app in ios:\n",
    "    name = app[0]\n",
    "    if is_english(name) == True:\n",
    "        ios_english.append(app)\n",
    "    if is_english(name) == False:\n",
    "        ios_non_english.append(app)\n",
    "        \n",
    "explore_data(ios_english, 0, 3, True)"
   ]
  },
  {
   "cell_type": "markdown",
   "metadata": {},
   "source": [
    "We now need to make sure we have a dataset containing only free apps.\n",
    "Isolating the free apps will be the last step in our cleaning process."
   ]
  },
  {
   "cell_type": "code",
   "execution_count": 24,
   "metadata": {
    "collapsed": false
   },
   "outputs": [
    {
     "name": "stdout",
     "output_type": "stream",
     "text": [
      "['Photo Editor & Candy Camera & Grid & ScrapBook', 'ART_AND_DESIGN', '4.1', '159', '19M', '10,000+', 'Free', '0', 'Everyone', 'Art & Design', 'January 7, 2018', '1.0.0', '4.0.3 and up']\n",
      "\n",
      "\n",
      "['U Launcher Lite – FREE Live Cool Themes, Hide Apps', 'ART_AND_DESIGN', '4.7', '87510', '8.7M', '5,000,000+', 'Free', '0', 'Everyone', 'Art & Design', 'August 1, 2018', '1.2.4', '4.0.3 and up']\n",
      "\n",
      "\n",
      "['Sketch - Draw & Paint', 'ART_AND_DESIGN', '4.5', '215644', '25M', '50,000,000+', 'Free', '0', 'Teen', 'Art & Design', 'June 8, 2018', 'Varies with device', '4.2 and up']\n",
      "\n",
      "\n",
      "Number of rows:  8864\n",
      "Number of columns:  13\n"
     ]
    }
   ],
   "source": [
    "android_final = []\n",
    "\n",
    "for app in android_english:\n",
    "    price = app[7]\n",
    "    if price == '0':\n",
    "        android_final.append(app)\n",
    "explore_data(android_final, 0, 3, True)"
   ]
  },
  {
   "cell_type": "code",
   "execution_count": 25,
   "metadata": {
    "collapsed": false
   },
   "outputs": [
    {
     "name": "stdout",
     "output_type": "stream",
     "text": [
      "['284882215', 'Facebook', '389879808', 'USD', '0.0', '2974676', '212', '3.5', '3.5', '95.0', '4+', 'Social Networking', '37', '1', '29', '1']\n",
      "\n",
      "\n",
      "['389801252', 'Instagram', '113954816', 'USD', '0.0', '2161558', '1289', '4.5', '4.0', '10.23', '12+', 'Photo & Video', '37', '0', '29', '1']\n",
      "\n",
      "\n",
      "['529479190', 'Clash of Clans', '116476928', 'USD', '0.0', '2130805', '579', '4.5', '4.5', '9.24.12', '9+', 'Games', '38', '5', '18', '1']\n",
      "\n",
      "\n",
      "Number of rows:  4056\n",
      "Number of columns:  16\n"
     ]
    }
   ],
   "source": [
    "ios_final = []\n",
    "\n",
    "for app in ios_english:\n",
    "    price = app[4]\n",
    "    if price == '0.0':\n",
    "        ios_final.append(app)\n",
    "\n",
    "explore_data(ios_final, 0, 3, True)"
   ]
  },
  {
   "cell_type": "markdown",
   "metadata": {
    "collapsed": true
   },
   "source": [
    "# Most common apps by genre\n",
    "\n",
    "After cleaning the data sets, we can move forward to analyzing our data sets and \n",
    "finding app profiles that are successsful on both markets. We start looking at the most common genres for each market. \n"
   ]
  },
  {
   "cell_type": "markdown",
   "metadata": {},
   "source": [
    "We will have to build 2 functions for this:\n",
    "- one will generate the frequency tables that show percentages: freq_table\n",
    "- a second one that will display the percentages in descending order: display_table\n",
    "\n",
    "To sort the dictionary, we will make use of the built-in function sorted(). Because sorted would only return the dictionary keys, we transform the dictionary into a list of tuplets, wher eeach tuple contains a dictionary key along with its corresponding dictionary value (the dictionary value comes first and the key second)"
   ]
  },
  {
   "cell_type": "code",
   "execution_count": 31,
   "metadata": {
    "collapsed": false
   },
   "outputs": [],
   "source": [
    "def freq_table(dataset, index):\n",
    "    table = {}\n",
    "    total = 0\n",
    "    \n",
    "    for row in dataset:\n",
    "        total += 1\n",
    "        value = row[index]\n",
    "        if value in table:\n",
    "            table[value] += 1\n",
    "        else:\n",
    "            table[value] = 1\n",
    "    \n",
    "    table_percentages = {}\n",
    "    for key in table:\n",
    "        percentage = (table[key] / total) * 100\n",
    "        table_percentages[key] = percentage \n",
    "    \n",
    "    return table_percentages"
   ]
  },
  {
   "cell_type": "code",
   "execution_count": 32,
   "metadata": {
    "collapsed": true
   },
   "outputs": [],
   "source": [
    "def display_table(dataset, index):\n",
    "    table = freq_table(dataset, index)\n",
    "    table_display = []\n",
    "    for key in table:\n",
    "        key_val_as_tuple = (table[key], key)\n",
    "        table_display.append(key_val_as_tuple)\n",
    "        \n",
    "    table_sorted = sorted(table_display, reverse = True)\n",
    "    for entry in table_sorted:\n",
    "        print(entry[1], ':', entry[0])"
   ]
  },
  {
   "cell_type": "markdown",
   "metadata": {},
   "source": [
    "Display ios prime_genre - table frequency"
   ]
  },
  {
   "cell_type": "code",
   "execution_count": 36,
   "metadata": {
    "collapsed": false
   },
   "outputs": [
    {
     "name": "stdout",
     "output_type": "stream",
     "text": [
      "Games : 55.64595660749507\n",
      "Entertainment : 8.234714003944774\n",
      "Photo & Video : 4.117357001972387\n",
      "Social Networking : 3.5256410256410255\n",
      "Education : 3.2544378698224854\n",
      "Shopping : 2.983234714003945\n",
      "Utilities : 2.687376725838264\n",
      "Lifestyle : 2.3175542406311638\n",
      "Finance : 2.0710059171597637\n",
      "Sports : 1.947731755424063\n",
      "Health & Fitness : 1.8737672583826428\n",
      "Music : 1.6518737672583828\n",
      "Book : 1.6272189349112427\n",
      "Productivity : 1.5285996055226825\n",
      "News : 1.4299802761341223\n",
      "Travel : 1.3806706114398422\n",
      "Food & Drink : 1.0601577909270217\n",
      "Weather : 0.7642998027613412\n",
      "Reference : 0.4930966469428008\n",
      "Navigation : 0.4930966469428008\n",
      "Business : 0.4930966469428008\n",
      "Catalogs : 0.22189349112426035\n",
      "Medical : 0.19723865877712032\n"
     ]
    }
   ],
   "source": [
    "display_table(ios_final, -5) #prime_genre"
   ]
  },
  {
   "cell_type": "markdown",
   "metadata": {},
   "source": [
    "By looking at the frequency table above, we can see that the biggest number of free English apps in app store is in the games category. \n",
    "That doesn't necessarily mean that it include the highest number of users also. "
   ]
  },
  {
   "cell_type": "code",
   "execution_count": 35,
   "metadata": {
    "collapsed": false
   },
   "outputs": [
    {
     "name": "stdout",
     "output_type": "stream",
     "text": [
      "FAMILY : 18.907942238267147\n",
      "GAME : 9.724729241877256\n",
      "TOOLS : 8.461191335740072\n",
      "BUSINESS : 4.591606498194946\n",
      "LIFESTYLE : 3.9034296028880866\n",
      "PRODUCTIVITY : 3.892148014440433\n",
      "FINANCE : 3.7003610108303246\n",
      "MEDICAL : 3.531137184115524\n",
      "SPORTS : 3.395758122743682\n",
      "PERSONALIZATION : 3.3167870036101084\n",
      "COMMUNICATION : 3.2378158844765346\n",
      "HEALTH_AND_FITNESS : 3.0798736462093865\n",
      "PHOTOGRAPHY : 2.944494584837545\n",
      "NEWS_AND_MAGAZINES : 2.7978339350180503\n",
      "SOCIAL : 2.6624548736462095\n",
      "TRAVEL_AND_LOCAL : 2.33528880866426\n",
      "SHOPPING : 2.2450361010830324\n",
      "BOOKS_AND_REFERENCE : 2.1435018050541514\n",
      "DATING : 1.861462093862816\n",
      "VIDEO_PLAYERS : 1.7937725631768955\n",
      "MAPS_AND_NAVIGATION : 1.3989169675090252\n",
      "FOOD_AND_DRINK : 1.2409747292418771\n",
      "EDUCATION : 1.1620036101083033\n",
      "ENTERTAINMENT : 0.9589350180505415\n",
      "LIBRARIES_AND_DEMO : 0.9363718411552346\n",
      "AUTO_AND_VEHICLES : 0.9250902527075812\n",
      "HOUSE_AND_HOME : 0.8235559566787004\n",
      "WEATHER : 0.8009927797833934\n",
      "EVENTS : 0.7107400722021661\n",
      "PARENTING : 0.6543321299638989\n",
      "ART_AND_DESIGN : 0.6430505415162455\n",
      "COMICS : 0.6204873646209386\n",
      "BEAUTY : 0.5979241877256317\n"
     ]
    }
   ],
   "source": [
    "display_table(android_final, 1) #Category"
   ]
  },
  {
   "cell_type": "markdown",
   "metadata": {},
   "source": [
    "If we check google playstore, most of the family apps are in fact kids games."
   ]
  },
  {
   "cell_type": "markdown",
   "metadata": {},
   "source": [
    "By checking the genre category in google play data set we can have a more granular view."
   ]
  },
  {
   "cell_type": "code",
   "execution_count": 38,
   "metadata": {
    "collapsed": false
   },
   "outputs": [
    {
     "name": "stdout",
     "output_type": "stream",
     "text": [
      "Tools : 8.449909747292418\n",
      "Entertainment : 6.069494584837545\n",
      "Education : 5.347472924187725\n",
      "Business : 4.591606498194946\n",
      "Productivity : 3.892148014440433\n",
      "Lifestyle : 3.892148014440433\n",
      "Finance : 3.7003610108303246\n",
      "Medical : 3.531137184115524\n",
      "Sports : 3.463447653429603\n",
      "Personalization : 3.3167870036101084\n",
      "Communication : 3.2378158844765346\n",
      "Action : 3.1024368231046933\n",
      "Health & Fitness : 3.0798736462093865\n",
      "Photography : 2.944494584837545\n",
      "News & Magazines : 2.7978339350180503\n",
      "Social : 2.6624548736462095\n",
      "Travel & Local : 2.3240072202166067\n",
      "Shopping : 2.2450361010830324\n",
      "Books & Reference : 2.1435018050541514\n",
      "Simulation : 2.0419675090252705\n",
      "Dating : 1.861462093862816\n",
      "Arcade : 1.8501805054151623\n",
      "Video Players & Editors : 1.7712093862815883\n",
      "Casual : 1.7599277978339352\n",
      "Maps & Navigation : 1.3989169675090252\n",
      "Food & Drink : 1.2409747292418771\n",
      "Puzzle : 1.128158844765343\n",
      "Racing : 0.9927797833935018\n",
      "Role Playing : 0.9363718411552346\n",
      "Libraries & Demo : 0.9363718411552346\n",
      "Auto & Vehicles : 0.9250902527075812\n",
      "Strategy : 0.9138086642599278\n",
      "House & Home : 0.8235559566787004\n",
      "Weather : 0.8009927797833934\n",
      "Events : 0.7107400722021661\n",
      "Adventure : 0.6768953068592057\n",
      "Comics : 0.6092057761732852\n",
      "Beauty : 0.5979241877256317\n",
      "Art & Design : 0.5979241877256317\n",
      "Parenting : 0.4963898916967509\n",
      "Card : 0.45126353790613716\n",
      "Casino : 0.42870036101083037\n",
      "Trivia : 0.41741877256317694\n",
      "Educational;Education : 0.39485559566787\n",
      "Board : 0.3835740072202166\n",
      "Educational : 0.3722924187725632\n",
      "Education;Education : 0.33844765342960287\n",
      "Word : 0.2594765342960289\n",
      "Casual;Pretend Play : 0.236913357400722\n",
      "Music : 0.2030685920577617\n",
      "Racing;Action & Adventure : 0.16922382671480143\n",
      "Puzzle;Brain Games : 0.16922382671480143\n",
      "Entertainment;Music & Video : 0.16922382671480143\n",
      "Casual;Brain Games : 0.13537906137184114\n",
      "Casual;Action & Adventure : 0.13537906137184114\n",
      "Arcade;Action & Adventure : 0.12409747292418773\n",
      "Action;Action & Adventure : 0.10153429602888085\n",
      "Educational;Pretend Play : 0.09025270758122744\n",
      "Simulation;Action & Adventure : 0.078971119133574\n",
      "Parenting;Education : 0.078971119133574\n",
      "Entertainment;Brain Games : 0.078971119133574\n",
      "Board;Brain Games : 0.078971119133574\n",
      "Parenting;Music & Video : 0.06768953068592057\n",
      "Educational;Brain Games : 0.06768953068592057\n",
      "Casual;Creativity : 0.06768953068592057\n",
      "Art & Design;Creativity : 0.06768953068592057\n",
      "Education;Pretend Play : 0.056407942238267145\n",
      "Role Playing;Pretend Play : 0.04512635379061372\n",
      "Education;Creativity : 0.04512635379061372\n",
      "Role Playing;Action & Adventure : 0.033844765342960284\n",
      "Puzzle;Action & Adventure : 0.033844765342960284\n",
      "Entertainment;Creativity : 0.033844765342960284\n",
      "Entertainment;Action & Adventure : 0.033844765342960284\n",
      "Educational;Creativity : 0.033844765342960284\n",
      "Educational;Action & Adventure : 0.033844765342960284\n",
      "Education;Music & Video : 0.033844765342960284\n",
      "Education;Brain Games : 0.033844765342960284\n",
      "Education;Action & Adventure : 0.033844765342960284\n",
      "Adventure;Action & Adventure : 0.033844765342960284\n",
      "Video Players & Editors;Music & Video : 0.02256317689530686\n",
      "Sports;Action & Adventure : 0.02256317689530686\n",
      "Simulation;Pretend Play : 0.02256317689530686\n",
      "Puzzle;Creativity : 0.02256317689530686\n",
      "Music;Music & Video : 0.02256317689530686\n",
      "Entertainment;Pretend Play : 0.02256317689530686\n",
      "Casual;Education : 0.02256317689530686\n",
      "Board;Action & Adventure : 0.02256317689530686\n",
      "Video Players & Editors;Creativity : 0.01128158844765343\n",
      "Trivia;Education : 0.01128158844765343\n",
      "Travel & Local;Action & Adventure : 0.01128158844765343\n",
      "Tools;Education : 0.01128158844765343\n",
      "Strategy;Education : 0.01128158844765343\n",
      "Strategy;Creativity : 0.01128158844765343\n",
      "Strategy;Action & Adventure : 0.01128158844765343\n",
      "Simulation;Education : 0.01128158844765343\n",
      "Role Playing;Brain Games : 0.01128158844765343\n",
      "Racing;Pretend Play : 0.01128158844765343\n",
      "Puzzle;Education : 0.01128158844765343\n",
      "Parenting;Brain Games : 0.01128158844765343\n",
      "Music & Audio;Music & Video : 0.01128158844765343\n",
      "Lifestyle;Pretend Play : 0.01128158844765343\n",
      "Lifestyle;Education : 0.01128158844765343\n",
      "Health & Fitness;Education : 0.01128158844765343\n",
      "Health & Fitness;Action & Adventure : 0.01128158844765343\n",
      "Entertainment;Education : 0.01128158844765343\n",
      "Communication;Creativity : 0.01128158844765343\n",
      "Comics;Creativity : 0.01128158844765343\n",
      "Casual;Music & Video : 0.01128158844765343\n",
      "Card;Action & Adventure : 0.01128158844765343\n",
      "Books & Reference;Education : 0.01128158844765343\n",
      "Art & Design;Pretend Play : 0.01128158844765343\n",
      "Art & Design;Action & Adventure : 0.01128158844765343\n",
      "Arcade;Pretend Play : 0.01128158844765343\n",
      "Adventure;Education : 0.01128158844765343\n"
     ]
    }
   ],
   "source": [
    "display_table(android_final, -4)"
   ]
  },
  {
   "cell_type": "markdown",
   "metadata": {},
   "source": [
    "Up to this point, we found that the App Store is dominated by apps designed for fun, while Google Play shows a more balanced landscape of both practical and for-fun apps. Now we'd like to get an idea about the kind of apps that have most users."
   ]
  },
  {
   "cell_type": "markdown",
   "metadata": {},
   "source": [
    "Now, we should establish what are the kind of apps with the most users. \n",
    "One way we can do that, is by calculating the average number of installs for each app genre. The google plaay data set has this information in Installs column. We can't find this in the app store data set adn we'll be using the total number of user ratings instead - rating_count_tot."
   ]
  },
  {
   "cell_type": "markdown",
   "metadata": {},
   "source": [
    "# Calculating the average number of user rating\n",
    "per app genre on the App Store\n",
    "\n",
    "We will use nested loop to compute the averages (a loop inside a loop)"
   ]
  },
  {
   "cell_type": "code",
   "execution_count": 43,
   "metadata": {
    "collapsed": false
   },
   "outputs": [
    {
     "name": "stdout",
     "output_type": "stream",
     "text": [
      "Food & Drink : 20179.093023255813\n",
      "Music : 56482.02985074627\n",
      "Reference : 67447.9\n",
      "Entertainment : 10822.961077844311\n",
      "Productivity : 19053.887096774193\n",
      "Catalogs : 1779.5555555555557\n",
      "Shopping : 18746.677685950413\n",
      "Sports : 20128.974683544304\n",
      "Health & Fitness : 19952.315789473683\n",
      "Lifestyle : 8978.308510638299\n",
      "Business : 6367.8\n",
      "Book : 8498.333333333334\n",
      "Weather : 47220.93548387097\n",
      "Photo & Video : 27249.892215568863\n",
      "Education : 6266.333333333333\n",
      "Finance : 13522.261904761905\n",
      "Games : 18924.68896765618\n",
      "Social Networking : 53078.195804195806\n",
      "Travel : 20216.01785714286\n",
      "Navigation : 25972.05\n",
      "Medical : 459.75\n",
      "Utilities : 14010.100917431193\n",
      "News : 15892.724137931034\n"
     ]
    }
   ],
   "source": [
    "genres_ios = freq_table(ios_final, -5)\n",
    "\n",
    "for genre in genres_ios:\n",
    "    total = 0 # the number of ratings\n",
    "    len_genre = 0 # the number of apps on each genre\n",
    "    \n",
    "    for app in ios_final:\n",
    "        genre_app = app[-5]\n",
    "        if genre_app == genre:\n",
    "            n_ratings = float(app[5])\n",
    "            total += n_ratings\n",
    "            len_genre +=1\n",
    "    \n",
    "    avg_n_ratings = total/len_genre\n",
    "    print(genre, ':', avg_n_ratings)\n",
    "    "
   ]
  },
  {
   "cell_type": "markdown",
   "metadata": {},
   "source": [
    "top 3 categories in terms of number of user ratings are: \n",
    "- reference\n",
    "- music\n",
    "- social networking\n",
    "- weather"
   ]
  },
  {
   "cell_type": "code",
   "execution_count": 47,
   "metadata": {
    "collapsed": false
   },
   "outputs": [
    {
     "name": "stdout",
     "output_type": "stream",
     "text": [
      "Pandora - Music & Radio : 1126879\n",
      "Spotify Music : 878563\n",
      "Shazam - Discover music, artists, videos & lyrics : 402925\n",
      "iHeartRadio – Free Music & Radio Stations : 293228\n",
      "SoundCloud - Music & Audio : 135744\n",
      "Magic Piano by Smule : 131695\n",
      "Smule Sing! : 119316\n",
      "TuneIn Radio - MLB NBA Audiobooks Podcasts Music : 110420\n",
      "Amazon Music : 106235\n",
      "SoundHound Song Search & Music Player : 82602\n",
      "Sonos Controller : 48905\n",
      "Bandsintown Concerts : 30845\n",
      "Karaoke - Sing Karaoke, Unlimited Songs! : 28606\n",
      "My Mixtapez Music : 26286\n",
      "Sing Karaoke Songs Unlimited with StarMaker : 26227\n",
      "Ringtones for iPhone & Ringtone Maker : 25403\n",
      "Musi - Unlimited Music For YouTube : 25193\n",
      "AutoRap by Smule : 18202\n",
      "Spinrilla - Mixtapes For Free : 15053\n",
      "Napster - Top Music & Radio : 14268\n",
      "edjing Mix:DJ turntable to remix and scratch music : 13580\n",
      "Free Music - MP3 Streamer & Playlist Manager Pro : 13443\n",
      "Free Piano app by Yokee : 13016\n",
      "Google Play Music : 10118\n",
      "Certified Mixtapes - Hip Hop Albums & Mixtapes : 9975\n",
      "TIDAL : 7398\n",
      "YouTube Music : 7109\n",
      "Nicki Minaj: The Empire : 5196\n",
      "Sounds app - Music And Friends : 5126\n",
      "SongFlip - Free Music Streamer : 5004\n",
      "Simple Radio - Live AM & FM Radio Stations : 4787\n",
      "Deezer - Listen to your Favorite Music & Playlists : 4677\n",
      "Ringtones for iPhone with Ringtone Maker : 4013\n",
      "Bose SoundTouch : 3687\n",
      "Amazon Alexa : 3018\n",
      "DatPiff : 2815\n",
      "Trebel Music - Unlimited Music Downloader : 2570\n",
      "Free Music Play - Mp3 Streamer & Player : 2496\n",
      "Acapella from PicPlayPost : 2487\n",
      "Coach Guitar - Lessons & Easy Tabs For Beginners : 2416\n",
      "Musicloud - MP3 and FLAC Music Player for Cloud Platforms. : 2211\n",
      "Piano - Play Keyboard Music Games with Magic Tiles : 1636\n",
      "Boom: Best Equalizer & Magical Surround Sound : 1375\n",
      "Music Freedom - Unlimited Free MP3 Music Streaming : 1246\n",
      "AmpMe - A Portable Social Party Music Speaker : 1047\n",
      "Medly - Music Maker : 933\n",
      "Bose Connect : 915\n",
      "Music Memos : 909\n",
      "QQ音乐-来这里“发现・音乐” : 745\n",
      "UE BOOM : 612\n",
      "LiveMixtapes : 555\n",
      "NOISE : 355\n",
      "MP3 Music Player & Streamer for Clouds : 329\n",
      "Musical Video Maker - Create Music clips lip sync : 320\n",
      "Cloud Music Player - Downloader & Playlist Manager : 319\n",
      "Remixlive - Remix loops with pads : 288\n",
      "QQ音乐HD : 224\n",
      "Blocs Wave - Make & Record Music : 158\n",
      "PlayGround • Music At Your Fingertips : 150\n",
      "Music and Chill : 135\n",
      "The Singing Machine Mobile Karaoke App : 130\n",
      "radio.de - Der Radioplayer : 64\n",
      "Free Music -  Player & Streamer  for Dropbox, OneDrive & Google Drive : 46\n",
      "NRJ Radio : 38\n",
      "Smart Music: Streaming Videos and Radio : 17\n",
      "BOSS Tuner : 13\n",
      "PetitLyrics : 0\n"
     ]
    }
   ],
   "source": [
    "for app in ios_final:\n",
    "    if app[-5] == 'Music':\n",
    "        print(app[1], ':', app[5]) # print name and number of ratings"
   ]
  },
  {
   "cell_type": "code",
   "execution_count": 48,
   "metadata": {
    "collapsed": false
   },
   "outputs": [
    {
     "name": "stdout",
     "output_type": "stream",
     "text": [
      "Facebook : 2974676\n",
      "Pinterest : 1061624\n",
      "Skype for iPhone : 373519\n",
      "Messenger : 351466\n",
      "Tumblr : 334293\n",
      "WhatsApp Messenger : 287589\n",
      "Kik : 260965\n",
      "ooVoo – Free Video Call, Text and Voice : 177501\n",
      "TextNow - Unlimited Text + Calls : 164963\n",
      "Viber Messenger – Text & Call : 164249\n",
      "Followers - Social Analytics For Instagram : 112778\n",
      "MeetMe - Chat and Meet New People : 97072\n",
      "We Heart It - Fashion, wallpapers, quotes, tattoos : 90414\n",
      "InsTrack for Instagram - Analytics Plus More : 85535\n",
      "Tango - Free Video Call, Voice and Chat : 75412\n",
      "LinkedIn : 71856\n",
      "Match™ - #1 Dating App. : 60659\n",
      "Skype for iPad : 60163\n",
      "POF - Best Dating App for Conversations : 52642\n",
      "Timehop : 49510\n",
      "Find My Family, Friends & iPhone - Life360 Locator : 43877\n",
      "Whisper - Share, Express, Meet : 39819\n",
      "Hangouts : 36404\n",
      "LINE PLAY - Your Avatar World : 34677\n",
      "WeChat : 34584\n",
      "Badoo - Meet New People, Chat, Socialize. : 34428\n",
      "Followers + for Instagram - Follower Analytics : 28633\n",
      "GroupMe : 28260\n",
      "Marco Polo Video Walkie Talkie : 27662\n",
      "Miitomo : 23965\n",
      "SimSimi : 23530\n",
      "Grindr - Gay and same sex guys chat, meet and date : 23201\n",
      "Wishbone - Compare Anything : 20649\n",
      "imo video calls and chat : 18841\n",
      "After School - Funny Anonymous School News : 18482\n",
      "Quick Reposter - Repost, Regram and Reshare Photos : 17694\n",
      "Weibo HD : 16772\n",
      "Repost for Instagram : 15185\n",
      "Live.me – Live Video Chat & Make Friends Nearby : 14724\n",
      "Nextdoor : 14402\n",
      "Followers Analytics for Instagram - InstaReport : 13914\n",
      "YouNow: Live Stream Video Chat : 12079\n",
      "FollowMeter for Instagram - Followers Tracking : 11976\n",
      "LINE : 11437\n",
      "eHarmony™ Dating App - Meet Singles : 11124\n",
      "Discord - Chat for Gamers : 9152\n",
      "QQ : 9109\n",
      "Telegram Messenger : 7573\n",
      "Weibo : 7265\n",
      "Periscope - Live Video Streaming Around the World : 6062\n",
      "Chat for Whatsapp - iPad Version : 5060\n",
      "QQ HD : 5058\n",
      "Followers Analysis Tool For Instagram App Free : 4253\n",
      "live.ly - live video streaming : 4145\n",
      "Houseparty - Group Video Chat : 3991\n",
      "SOMA Messenger : 3232\n",
      "Monkey : 3060\n",
      "百度贴吧-全球最大兴趣交友社区 : 2860\n",
      "Down To Lunch : 2535\n",
      "Flinch - Video Chat Staring Contest : 2134\n",
      "Highrise - Your Avatar Community : 2011\n",
      "LOVOO - Dating Chat : 1985\n",
      "PlayStation®Messages : 1918\n",
      "MOMO陌陌-开启视频社交,用直播分享生活 : 1862\n",
      "BOO! - Video chat camera with filters & stickers : 1805\n",
      "Qzone : 1649\n",
      "Chatous - Chat with new people : 1609\n",
      "Kiwi - Q&A : 1538\n",
      "GhostCodes - a discovery app for Snapchat : 1313\n",
      "Jodel : 1193\n",
      "FireChat : 1037\n",
      "Google Duo - simple video calling : 1033\n",
      "Fiesta by Tango - Chat & Meet New People : 885\n",
      "Google Allo — smart messaging : 862\n",
      "Peach — share vividly : 727\n",
      "Hey! VINA - Where Women Meet New Friends : 719\n",
      "Battlefield™ Companion : 689\n",
      "All Devices for WhatsApp - Messenger for iPad : 682\n",
      "YY- 小全民手机直播交友软件 : 624\n",
      "百度贴吧HD : 542\n",
      "Chat for Pokemon Go - GoChat : 500\n",
      "IAmNaughty – Dating App to Meet New People Online : 463\n",
      "Qzone HD : 458\n",
      "Zenly - Locate your friends in realtime : 427\n",
      "League of Legends Friends : 420\n",
      "豆瓣 : 407\n",
      "Candid - Speak Your Mind Freely : 398\n",
      "知乎 : 397\n",
      "Selfeo : 366\n",
      "Fake-A-Location Free ™ : 354\n",
      "Popcorn Buzz - Free Group Calls : 281\n",
      "Fam — Group video calling for iMessage : 279\n",
      "QQ International : 274\n",
      "Ameba : 269\n",
      "SoundCloud Pulse: for creators : 240\n",
      "Tantan : 235\n",
      "Cougar Dating & Life Style App for Mature Women : 213\n",
      "Rawr Messenger - Dab your chat : 180\n",
      "WhenToPost: Best Time to Post Photos for Instagram : 158\n",
      "Inke—Broadcast an amazing life : 147\n",
      "same - 就是聊得来 : 78\n",
      "Mustknow - anonymous video Q&A : 53\n",
      "CTFxCmoji : 39\n",
      "タップル誕生 - 出会いアプリで趣味から恋活・婚活 : 37\n",
      "Lobi : 36\n",
      "Chain: Collaborate On MyVideo Story/Group Video : 35\n",
      "花椒直播-高清美颜直播互动平台 : 19\n",
      "ひみつの出会い探しはバクアイ-無料の出会いチャットアプリで友達作り : 13\n",
      "Jメール 出会える人気の匿名SNS出会い系アプリ : 11\n",
      "botman - Real time video chat : 7\n",
      "秀色秀场-网红直播 聊天交友 : 6\n",
      "非诚勿扰-中国最大免费婚恋交友平台 : 3\n",
      "美播 - 玩不尽的真人游戏 : 1\n",
      "ピグパーティ - きせかえ・アバターで楽しむトークアプリ : 1\n",
      "派派激情版-寂陌陌声人交友神器 : 0\n",
      "视吧-全民手机直播 : 0\n",
      "マッチングならSecret- 友達・恋人探しSNS : 0\n",
      "BestieBox : 0\n",
      "おチャベリ-ビデオ通話でマッチングアプリ : 0\n",
      "暇なら話そう！誰でも話せて友達も作れる「KoeTomo」 : 0\n",
      "出会い無料のチャット掲示板 LINK : 0\n",
      "出会い応援チャットアプリLIKE YOU : 0\n",
      "BiBi娱乐社区 - 好玩的游戏都在这里！ : 0\n",
      "HONNE -本音が言える匿名つぶやき&チャットアプリ : 0\n",
      "NOW直播—腾讯旗下全民直播平台 : 0\n",
      "【完全無料】ソク出会える！ひみつフレ探し掲示板 : 0\n",
      "陌爱神器-不闲聊！陌生人快速约见面平台 : 0\n",
      "【完全無料】おとな専用！出会い掲示板 : 0\n",
      "洋葱圈—正经人的不正经聊天工具 : 0\n",
      "出会い系無料で遊べるsnsアプリ内緒チャットトーク : 0\n",
      "出会い秘密チャット - 相席 出会い系チャット : 0\n",
      "MATCH ON LINE chat : 0\n",
      "大人の出会いチャット  - 出会い系 アプリ : 0\n",
      "niconico ch : 0\n",
      "ライブチャット、ビデオチャット通話が楽しめる！ ライブでゴーゴー : 0\n",
      "ゲーム攻略「SGGP」掲示板、SNSな友達出会い : 0\n",
      "LINE BLOG : 0\n",
      "FixYou-無料でチャットトークができるSNSマッチングアプリ : 0\n",
      "bit-tube - Live Stream Video Chat : 0\n",
      "出会い系アプリ i-Mail（アイメール） : 0\n",
      "同城爱约会-单身男女约会神器 : 0\n",
      "マッチング チャット - マッチング&恋人探しチャット : 0\n",
      "友達 恋人探し であい ちゃっと sns -ギャルとも : 0\n"
     ]
    }
   ],
   "source": [
    "for app in ios_final:\n",
    "    if app[-5] == 'Social Networking':\n",
    "        print(app[1], ':', app[5]) # print name and number of ratings"
   ]
  },
  {
   "cell_type": "markdown",
   "metadata": {},
   "source": [
    "If we take a closer look at both Music and Social Netwroking categories, we see that just a frew apps influence a high average. In this case, we'd either exclude the extremities and recalculate the average or try and take a look at other better options."
   ]
  },
  {
   "cell_type": "code",
   "execution_count": 50,
   "metadata": {
    "collapsed": false
   },
   "outputs": [
    {
     "name": "stdout",
     "output_type": "stream",
     "text": [
      "Starbucks : 303856\n",
      "Domino's Pizza USA : 258624\n",
      "OpenTable - Restaurant Reservations : 113936\n",
      "Allrecipes Dinner Spinner : 109349\n",
      "DoorDash - Food Delivery : 25947\n",
      "UberEATS: Uber for Food Delivery : 17865\n",
      "Postmates - Food Delivery, Faster : 9519\n",
      "Dunkin' Donuts - Get Offers, Coupons & Rewards : 9068\n",
      "Chick-fil-A : 5665\n",
      "McDonald's : 4050\n",
      "Deliveroo: Restaurant Delivery - Order Food Nearby : 1702\n",
      "SONIC Drive-In : 1645\n",
      "Nowait Guest : 1625\n",
      "7-Eleven, Inc. : 1356\n",
      "Outback : 805\n",
      "Bon Appetit : 750\n",
      "饿了么外卖-大牌美食，折扣热卖 : 481\n",
      "Starbucks Keyboard : 457\n",
      "美团外卖-甜点生鲜等零食配送，鲜花蛋糕准时必达 : 225\n",
      "Whataburger : 197\n",
      "Delish Eatmoji Keyboard : 154\n",
      "百度外卖 -美食订餐品质生活，超市水果安全到家 : 148\n",
      "クックパッド - No.1料理レシピ検索アプリ : 115\n",
      "Lieferheld - Delicious food delivery service : 29\n",
      "Lieferando.de : 29\n",
      "kurashiru [クラシル] - 料理レシピ動画数No.1 : 27\n",
      "McDo France : 22\n",
      "Chefkoch - Rezepte, Kochen, Backen & Kochbuch : 20\n",
      "マクドナルド - McDonald's Japan : 10\n",
      "Youmiam : 9\n",
      "DELISH KITCHEN - レシピ動画で料理を簡単に : 7\n",
      "DayDayCook － 日日煮 : 5\n",
      "Marmiton Twist : 2\n",
      "Open Food Facts : 1\n",
      "健康献立レシピ提案 オーガニック “Ohganic\" : 1\n",
      "最長１週間の献立が簡単に作れるme:new（ミーニュー） : 0\n",
      "商品バーコードで賞味期限を通知 Limiter2 (リミッター) : 0\n",
      "スタバで呪文 : 0\n",
      "丸亀製麺 : 0\n",
      "ケンタッキーフライドチキン　公式アプリ : 0\n",
      "スシロー : 0\n",
      "ジョナサンアプリ　お得なクーポンが使える便利なアプリ : 0\n",
      "みんなのお弁当 by クックパッド ~お弁当をレシピ付きで記録・共有~ : 0\n"
     ]
    }
   ],
   "source": [
    "for app in ios_final:\n",
    "    if app[-5] == 'Food & Drink':\n",
    "        print(app[1], ':', app[5]) # print name and number of ratings"
   ]
  },
  {
   "cell_type": "markdown",
   "metadata": {
    "collapsed": true
   },
   "source": [
    "An idea could be to create an app for cooking healthy fast easy recipes (all recipies spinner has a high number of user ratings) - we can include an automated shopping list function based on the recipe selected and amazon/other websites recommendation for orders."
   ]
  },
  {
   "cell_type": "markdown",
   "metadata": {},
   "source": [
    "# Most popular apps by genre in google play store\n",
    "\n",
    "We will look at the number of installs, but we notice that the number is not precise."
   ]
  },
  {
   "cell_type": "code",
   "execution_count": 51,
   "metadata": {
    "collapsed": false
   },
   "outputs": [
    {
     "name": "stdout",
     "output_type": "stream",
     "text": [
      "1,000,000+ : 15.726534296028879\n",
      "100,000+ : 11.552346570397113\n",
      "10,000,000+ : 10.548285198555957\n",
      "10,000+ : 10.198555956678701\n",
      "1,000+ : 8.393501805054152\n",
      "100+ : 6.915613718411552\n",
      "5,000,000+ : 6.825361010830325\n",
      "500,000+ : 5.561823104693141\n",
      "50,000+ : 4.7721119133574\n",
      "5,000+ : 4.512635379061372\n",
      "10+ : 3.5424187725631766\n",
      "500+ : 3.2490974729241873\n",
      "50,000,000+ : 2.3014440433213\n",
      "100,000,000+ : 2.1322202166064983\n",
      "50+ : 1.917870036101083\n",
      "5+ : 0.78971119133574\n",
      "1+ : 0.5076714801444043\n",
      "500,000,000+ : 0.2707581227436823\n",
      "1,000,000,000+ : 0.22563176895306858\n",
      "0+ : 0.04512635379061372\n",
      "0 : 0.01128158844765343\n"
     ]
    }
   ],
   "source": [
    "display_table(android_final, 5) # the Installs columns"
   ]
  },
  {
   "cell_type": "markdown",
   "metadata": {},
   "source": [
    "Even if it is not precise, we will use this data, but we will have to transform it in float type from string, by removing commas and plus signs."
   ]
  },
  {
   "cell_type": "code",
   "execution_count": 56,
   "metadata": {
    "collapsed": false
   },
   "outputs": [
    {
     "name": "stdout",
     "output_type": "stream",
     "text": [
      "BUSINESS : 1712290.1474201474\n",
      "SOCIAL : 23253652.127118643\n",
      "LIBRARIES_AND_DEMO : 638503.734939759\n",
      "BEAUTY : 513151.88679245283\n",
      "DATING : 854028.8303030303\n",
      "SPORTS : 3638640.1428571427\n",
      "MAPS_AND_NAVIGATION : 4056941.7741935486\n",
      "FINANCE : 1387692.475609756\n",
      "PERSONALIZATION : 5201482.6122448975\n",
      "COMICS : 817657.2727272727\n",
      "LIFESTYLE : 1437816.2687861272\n",
      "TOOLS : 10801391.298666667\n",
      "HEALTH_AND_FITNESS : 4188821.9853479853\n",
      "BOOKS_AND_REFERENCE : 8767811.894736841\n",
      "COMMUNICATION : 38456119.167247385\n",
      "WEATHER : 5074486.197183099\n",
      "FOOD_AND_DRINK : 1924897.7363636363\n",
      "PARENTING : 542603.6206896552\n",
      "EDUCATION : 1833495.145631068\n",
      "ENTERTAINMENT : 11640705.88235294\n",
      "GAME : 15588015.603248259\n",
      "TRAVEL_AND_LOCAL : 13984077.710144928\n",
      "ART_AND_DESIGN : 1986335.0877192982\n",
      "AUTO_AND_VEHICLES : 647317.8170731707\n",
      "HOUSE_AND_HOME : 1331540.5616438356\n",
      "SHOPPING : 7036877.311557789\n",
      "PRODUCTIVITY : 16787331.344927534\n",
      "FAMILY : 3695641.8198090694\n",
      "VIDEO_PLAYERS : 24727872.452830188\n",
      "PHOTOGRAPHY : 17840110.40229885\n",
      "EVENTS : 253542.22222222222\n",
      "NEWS_AND_MAGAZINES : 9549178.467741935\n",
      "MEDICAL : 120550.61980830671\n"
     ]
    }
   ],
   "source": [
    "categories_android = freq_table(android_final, 1) # generate the frequency table for category column to get the unique apps genre\n",
    "\n",
    "for category in categories_android:\n",
    "    total = 0 #sum of installs specific to each genre\n",
    "    len_category = 0 # number of apps specific to each genre\n",
    "    for app in android_final:\n",
    "        category_app  = app[1]\n",
    "        if category_app == category:\n",
    "            n_installs = app[5]\n",
    "            n_installs = n_installs.replace(',', '')\n",
    "            n_installs = n_installs.replace('+', '')\n",
    "            total += float(n_installs)\n",
    "            len_category += 1\n",
    "    avg_n_installs = total / len_category\n",
    "    print(category, ':', avg_n_installs)\n",
    "\n"
   ]
  },
  {
   "cell_type": "markdown",
   "metadata": {},
   "source": [
    "These are the top categories in google play store based on the number of installs:\n",
    "\n",
    "__social 23,2__\n",
    "game 15,5\n",
    "enterteinment 11,6\n",
    "__communication 38,4__\n",
    "tools 10,8\n",
    "photography 17,8\n",
    "__video_players 24,7__\n",
    "productivity 16,7\n",
    "travel_and_local 13,4\n",
    "\n",
    "But than again, if we'd take a closer look at the communication category, we'll see that the high aveerage is heavily influenced by just a few of the apps.."
   ]
  },
  {
   "cell_type": "code",
   "execution_count": 59,
   "metadata": {
    "collapsed": false
   },
   "outputs": [
    {
     "name": "stdout",
     "output_type": "stream",
     "text": [
      "WhatsApp Messenger : 1,000,000,000+\n",
      "imo beta free calls and text : 100,000,000+\n",
      "Android Messages : 100,000,000+\n",
      "Google Duo - High Quality Video Calls : 500,000,000+\n",
      "Messenger – Text and Video Chat for Free : 1,000,000,000+\n",
      "imo free video calls and chat : 500,000,000+\n",
      "Skype - free IM & video calls : 1,000,000,000+\n",
      "Who : 100,000,000+\n",
      "GO SMS Pro - Messenger, Free Themes, Emoji : 100,000,000+\n",
      "LINE: Free Calls & Messages : 500,000,000+\n",
      "Google Chrome: Fast & Secure : 1,000,000,000+\n",
      "Firefox Browser fast & private : 100,000,000+\n",
      "UC Browser - Fast Download Private & Secure : 500,000,000+\n",
      "Gmail : 1,000,000,000+\n",
      "Hangouts : 1,000,000,000+\n",
      "Messenger Lite: Free Calls & Messages : 100,000,000+\n",
      "Kik : 100,000,000+\n",
      "KakaoTalk: Free Calls & Text : 100,000,000+\n",
      "Opera Mini - fast web browser : 100,000,000+\n",
      "Opera Browser: Fast and Secure : 100,000,000+\n",
      "Telegram : 100,000,000+\n",
      "Truecaller: Caller ID, SMS spam blocking & Dialer : 100,000,000+\n",
      "UC Browser Mini -Tiny Fast Private & Secure : 100,000,000+\n",
      "Viber Messenger : 500,000,000+\n",
      "WeChat : 100,000,000+\n",
      "Yahoo Mail – Stay Organized : 100,000,000+\n",
      "BBM - Free Calls & Messages : 100,000,000+\n"
     ]
    }
   ],
   "source": [
    "for app in android_final:\n",
    "    if app[1] == 'COMMUNICATION' and (app[5] == '1,000,000,000+'\n",
    "                                      or app[5] == '500,000,000+'\n",
    "                                      or app[5] == '100,000,000+'):\n",
    "        print(app[0], ':', app[5])"
   ]
  },
  {
   "cell_type": "markdown",
   "metadata": {},
   "source": [
    "If we remove the extremes, the average will drop by a lot. And this is "
   ]
  },
  {
   "cell_type": "code",
   "execution_count": 60,
   "metadata": {
    "collapsed": false
   },
   "outputs": [
    {
     "data": {
      "text/plain": [
       "3603485.3884615386"
      ]
     },
     "execution_count": 60,
     "metadata": {},
     "output_type": "execute_result"
    }
   ],
   "source": [
    "under_100_m = []\n",
    "\n",
    "for app in android_final:\n",
    "    n_installs = app[5]\n",
    "    n_installs = n_installs.replace(',', '')\n",
    "    n_installs = n_installs.replace('+', '')\n",
    "    if (app[1] == 'COMMUNICATION') and (float(n_installs) < 100000000):\n",
    "        under_100_m.append(float(n_installs))\n",
    "        \n",
    "sum(under_100_m) / len(under_100_m)"
   ]
  },
  {
   "cell_type": "markdown",
   "metadata": {},
   "source": [
    "3,6 milion installs makes other categories more interesting now. For example, we could take a look at the food and drink category here as well, that has an average of close to 2 milion installs. Maybe this could be a category that isn't already saturated, with room for creating some new easy built apps (if you exclude the delivery apps)."
   ]
  },
  {
   "cell_type": "code",
   "execution_count": 62,
   "metadata": {
    "collapsed": false
   },
   "outputs": [
    {
     "name": "stdout",
     "output_type": "stream",
     "text": [
      "Easy and Fast Recipes : 50,000+\n",
      "Cookpad - FREE recipe search makes fun cooking · musical making! : 10,000,000+\n",
      "DELISH KITCHEN - FREE recipe movies make food fun and easy! : 1,000,000+\n",
      "Sumine side dish - dish recipe side dish : 10,000+\n",
      "Easy Recipes : 100,000+\n",
      "Delicious Recipes : 1,000,000+\n",
      "Tastely : 10,000,000+\n",
      "Pastry & Cooking (Without Net) : 1,000,000+\n",
      "Frigo Magic: Easy recipe idea and anti-waste : 500,000+\n",
      "McDonald's - McDonald's Japan : 10,000,000+\n",
      "Debonairs Pizza : 500,000+\n",
      "Popeyes® App : 50,000+\n",
      "Pyaterochka : 1,000,000+\n",
      "Refreshing app Free application that can use deal coupons : 1,000,000+\n",
      "Simple Recipes : 500,000+\n",
      "Grubhub: Food Delivery : 5,000,000+\n",
      "hellofood - Food Delivery : 1,000,000+\n",
      "Easy and quick desserts : 100,000+\n",
      "Domino's Pizza USA : 10,000,000+\n",
      "Chef - Recipes & Cooking : 5,000,000+\n",
      "Delivery Club-food delivery: pizza, sushi, burger, salad : 5,000,000+\n",
      "HungerStation : 1,000,000+\n",
      "Delivery yogi. : 10,000,000+\n",
      "Delivery trough - delivery trough delivery trough : 5,000,000+\n",
      "Dr. Oetker recipe ideas : 1,000,000+\n",
      "GialloZafferano: Recipes : 1,000,000+\n",
      "9th stage : 100,000+\n",
      "OpenRice : 1,000,000+\n",
      "SarashpazPapion (Cooking with Chef Bowls) : 50,000+\n",
      "Little Caesars : 500,000+\n",
      "Recipes Pastries and homemade pies More than 500 recipes for pastries : 500,000+\n",
      "Om Waleed Sweets : 100,000+\n",
      "Eat Fast Prepare \"Without Internet\" : 1,000,000+\n",
      "My Recipes Cookbook : RecetteTek : 100,000+\n",
      "Healthy Recipes Free : 100,000+\n",
      "Cookbook Recipes : 5,000,000+\n",
      "ChefTap Recipes & Grocery List : 500,000+\n",
      "Recipe Keeper : 100,000+\n",
      "My CookBook (Recipe Manager) : 1,000,000+\n",
      "50 Healthy Slow Cooker Recipes : 10,000+\n",
      "Easy Healthy Recipes : 50,000+\n",
      "Allrecipes Dinner Spinner : 5,000,000+\n",
      "Yummly Recipes & Shopping List : 1,000,000+\n",
      "Kitchen Stories - Recipes & Cooking : 1,000,000+\n",
      "Cookpad : 10,000,000+\n",
      "BigOven Recipes, Meal Planner, Grocery List & More : 1,000,000+\n",
      "Postmates Food Delivery: Order Eats & Alcohol : 1,000,000+\n",
      "Instacart: Grocery Delivery : 1,000,000+\n",
      "OpenTable: Restaurants Near Me : 5,000,000+\n",
      "Foursquare City Guide : 10,000,000+\n",
      "Munchery: Chef Crafted Fresh Food Delivered : 50,000+\n",
      "delivery.com: Order Food, Alcohol & Laundry : 100,000+\n",
      "Eat24 Food Delivery & Takeout : 1,000,000+\n",
      "EatStreet Food Delivery App : 100,000+\n",
      "Pizza Hut : 10,000,000+\n",
      "Caviar - Food Delivery : 100,000+\n",
      "DoorDash - Food Delivery : 1,000,000+\n",
      "Chick-fil-A : 5,000,000+\n",
      "Uber Eats: Local Food Delivery : 10,000,000+\n",
      "Seamless Food Delivery/Takeout : 1,000,000+\n",
      "Talabat: Food Delivery : 5,000,000+\n",
      "TheFork - Restaurants booking and special offers : 5,000,000+\n",
      "foodpanda - Local Food Delivery : 10,000,000+\n",
      "Zomato - Restaurant Finder and Food Delivery App : 10,000,000+\n",
      "B.GOOD : 10,000+\n",
      "Q-Tech Companion App : 10,000+\n",
      "Zaatar w Zeit : 50,000+\n",
      "AJ-COMICS : 5+\n",
      "Au Bon Pain : 10,000+\n",
      "Gâteau au yaourt : 10,000+\n",
      "AV Anthony's : 50+\n",
      "A&W Restaurants : 1,000+\n",
      "Food-Aw - Order Food Online in Aruba : 100+\n",
      "Sommelier.BG : 10+\n",
      "BG Burger : 10+\n",
      "BH Açaí : 100+\n",
      "BH Recepti : 500+\n",
      "BURGER KING® Puerto Rico : 100,000+\n",
      "Coupons for Burger King : 500+\n",
      "BeyondMenu Food Delivery : 1,000,000+\n",
      "orderin.bm : 1+\n",
      "Bar-B-Q Rib House : 50+\n",
      "Bar-B-Q Recipes : 5,000+\n",
      "Woody's Bar-B-Q : 1,000+\n",
      "Jimbo's Pit Bar B-Q : 100+\n",
      "Miller's Bar B-Q : 50+\n",
      "BAR-B-Q Recipes : 100+\n",
      "BQ Wings : 50+\n",
      "Texas Bar-B-Q Rewards : 5+\n",
      "Baskin-Robbins : 100,000+\n",
      "CJ Infinity : 10+\n",
      "McDelivery Cyprus : 10,000+\n",
      "Dairy Queen : 100,000+\n",
      "DQ Texas : 100,000+\n",
      "Coupons for Dairy Queen : 100+\n",
      "SONIC Drive-In : 1,000,000+\n",
      "McDonald's : 10,000,000+\n",
      "Whataburger : 500,000+\n",
      "Arby's : 100,000+\n",
      "Wendy’s – Food and Offers : 1,000,000+\n",
      "Dunkin' Donuts : 1,000,000+\n",
      "SUBWAY® : 1,000,000+\n",
      "Panera Bread : 1,000,000+\n",
      "IHOP® : 100,000+\n",
      "Starbucks : 10,000,000+\n",
      "3D Metal Piano Keys Keyboard Theme : 100,000+\n",
      "El Pollo Loco - Loco Rewards : 100,000+\n",
      "¿Es Vegan? : 10,000+\n",
      "Recettes Faciles et Rapides : 50,000+\n",
      "Santa Fe Espresso & News : 10+\n"
     ]
    }
   ],
   "source": [
    "for app in android_final:\n",
    "    if app[1] == 'FOOD_AND_DRINK':\n",
    "        print(app[0], ':', app[5])"
   ]
  },
  {
   "cell_type": "code",
   "execution_count": 63,
   "metadata": {
    "collapsed": false
   },
   "outputs": [
    {
     "name": "stdout",
     "output_type": "stream",
     "text": [
      "Cookpad - FREE recipe search makes fun cooking · musical making! : 10,000,000+\n",
      "DELISH KITCHEN - FREE recipe movies make food fun and easy! : 1,000,000+\n",
      "Delicious Recipes : 1,000,000+\n",
      "Tastely : 10,000,000+\n",
      "Pastry & Cooking (Without Net) : 1,000,000+\n",
      "Frigo Magic: Easy recipe idea and anti-waste : 500,000+\n",
      "McDonald's - McDonald's Japan : 10,000,000+\n",
      "Debonairs Pizza : 500,000+\n",
      "Pyaterochka : 1,000,000+\n",
      "Refreshing app Free application that can use deal coupons : 1,000,000+\n",
      "Simple Recipes : 500,000+\n",
      "hellofood - Food Delivery : 1,000,000+\n",
      "Domino's Pizza USA : 10,000,000+\n",
      "HungerStation : 1,000,000+\n",
      "Delivery yogi. : 10,000,000+\n",
      "Dr. Oetker recipe ideas : 1,000,000+\n",
      "GialloZafferano: Recipes : 1,000,000+\n",
      "OpenRice : 1,000,000+\n",
      "Little Caesars : 500,000+\n",
      "Recipes Pastries and homemade pies More than 500 recipes for pastries : 500,000+\n",
      "Eat Fast Prepare \"Without Internet\" : 1,000,000+\n",
      "ChefTap Recipes & Grocery List : 500,000+\n",
      "My CookBook (Recipe Manager) : 1,000,000+\n",
      "Yummly Recipes & Shopping List : 1,000,000+\n",
      "Kitchen Stories - Recipes & Cooking : 1,000,000+\n",
      "Cookpad : 10,000,000+\n",
      "BigOven Recipes, Meal Planner, Grocery List & More : 1,000,000+\n",
      "Postmates Food Delivery: Order Eats & Alcohol : 1,000,000+\n",
      "Instacart: Grocery Delivery : 1,000,000+\n",
      "Foursquare City Guide : 10,000,000+\n",
      "Eat24 Food Delivery & Takeout : 1,000,000+\n",
      "Pizza Hut : 10,000,000+\n",
      "DoorDash - Food Delivery : 1,000,000+\n",
      "Uber Eats: Local Food Delivery : 10,000,000+\n",
      "Seamless Food Delivery/Takeout : 1,000,000+\n",
      "foodpanda - Local Food Delivery : 10,000,000+\n",
      "Zomato - Restaurant Finder and Food Delivery App : 10,000,000+\n",
      "BeyondMenu Food Delivery : 1,000,000+\n",
      "SONIC Drive-In : 1,000,000+\n",
      "McDonald's : 10,000,000+\n",
      "Whataburger : 500,000+\n",
      "Wendy’s – Food and Offers : 1,000,000+\n",
      "Dunkin' Donuts : 1,000,000+\n",
      "SUBWAY® : 1,000,000+\n",
      "Panera Bread : 1,000,000+\n",
      "Starbucks : 10,000,000+\n"
     ]
    }
   ],
   "source": [
    "for app in android_final:\n",
    "    if app[1] == 'FOOD_AND_DRINK' and (app[5] == '10,000,000+'\n",
    "                                            or app[5] == '500,000+'\n",
    "                                            or app[5] == '1,000,000+'):\n",
    "        print(app[0], ':', app[5])"
   ]
  },
  {
   "cell_type": "markdown",
   "metadata": {},
   "source": [
    "There are a few reciepes app in google store as well, but not focused on healthy eating and ingredients ordering. They have a high number of installs 500,000+ - 1,000,000+, so this might be a good idea."
   ]
  },
  {
   "cell_type": "markdown",
   "metadata": {},
   "source": [
    "# Conclusions\n",
    "\n",
    "In this project, we analyzed data about the App Store and Google Play mobile apps with the goal of recommending an app profile that can be profitable for both markets. In the same time, we wanted to recommend an easy-built kind of app, that can be offered freely and used by a large number of users.\n",
    "\n",
    "Considering that healthy eating we all want / fast paced life we all live today and also by looking at the number of existing apps, number of user ratings and number of installs in App Store and Google Play, there is still room for a new app focused on healthy eating.\n",
    "We can start by creating an community of sportive people sharing healthy reciepes and move up from there:\n",
    " - can include a checkable shopping list for each reciepe\n",
    " - function to recommend best places to order online the ingredients\n",
    " - ingredients replacements recommendations for people with allergies \n",
    " \n",
    "and all this created by users...\n",
    "\n",
    "\n",
    "\n"
   ]
  },
  {
   "cell_type": "code",
   "execution_count": null,
   "metadata": {
    "collapsed": true
   },
   "outputs": [],
   "source": []
  }
 ],
 "metadata": {
  "kernelspec": {
   "display_name": "Python 3",
   "language": "python",
   "name": "python3"
  },
  "language_info": {
   "codemirror_mode": {
    "name": "ipython",
    "version": 3
   },
   "file_extension": ".py",
   "mimetype": "text/x-python",
   "name": "python",
   "nbconvert_exporter": "python",
   "pygments_lexer": "ipython3",
   "version": "3.4.3"
  }
 },
 "nbformat": 4,
 "nbformat_minor": 2
}
